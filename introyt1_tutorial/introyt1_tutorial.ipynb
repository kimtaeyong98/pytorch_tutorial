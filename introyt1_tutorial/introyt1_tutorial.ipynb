{
 "cells": [
  {
   "cell_type": "code",
   "execution_count": 20,
   "metadata": {},
   "outputs": [],
   "source": [
    "import torch"
   ]
  },
  {
   "cell_type": "code",
   "execution_count": 21,
   "metadata": {},
   "outputs": [
    {
     "name": "stdout",
     "output_type": "stream",
     "text": [
      "tensor([[0., 0., 0.],\n",
      "        [0., 0., 0.],\n",
      "        [0., 0., 0.],\n",
      "        [0., 0., 0.],\n",
      "        [0., 0., 0.]])\n",
      "torch.float32\n"
     ]
    }
   ],
   "source": [
    "z = torch.zeros(5, 3)  # make 5x3 tensor filled 0\n",
    "print(z)\n",
    "print(z.dtype)"
   ]
  },
  {
   "cell_type": "code",
   "execution_count": 22,
   "metadata": {},
   "outputs": [
    {
     "name": "stdout",
     "output_type": "stream",
     "text": [
      "tensor([[1, 1, 1],\n",
      "        [1, 1, 1],\n",
      "        [1, 1, 1],\n",
      "        [1, 1, 1],\n",
      "        [1, 1, 1]], dtype=torch.int16)\n"
     ]
    }
   ],
   "source": [
    "i = torch.ones((5, 3), dtype=torch.int16)  # make 5x3 tensor filled 1 dtype = int16\n",
    "print(i)"
   ]
  },
  {
   "cell_type": "code",
   "execution_count": 23,
   "metadata": {},
   "outputs": [
    {
     "name": "stdout",
     "output_type": "stream",
     "text": [
      "랜덤 tensor 값:\n",
      "tensor([[0.3126, 0.3791],\n",
      "        [0.3087, 0.0736]])\n",
      "\n",
      "다른 랜덤 tensor 값:\n",
      "tensor([[0.4216, 0.0691],\n",
      "        [0.2332, 0.4047]])\n",
      "\n",
      "r1과 일치:\n",
      "tensor([[0.3126, 0.3791],\n",
      "        [0.3087, 0.0736]])\n"
     ]
    }
   ],
   "source": [
    "torch.manual_seed(1729)\n",
    "r1 = torch.rand(2, 2)  # 2x2 tensor filled random\n",
    "print('랜덤 tensor 값:')\n",
    "print(r1)\n",
    "\n",
    "r2 = torch.rand(2, 2)  # 2x2 tensor filled random\n",
    "print('\\n다른 랜덤 tensor 값:')\n",
    "print(r2) # 새로운 2x2 행렬 값\n",
    "\n",
    "torch.manual_seed(1729)  # seed 고정\n",
    "r3 = torch.rand(2, 2) # == r1\n",
    "print('\\nr1과 일치:')\n",
    "print(r3) # == r1"
   ]
  },
  {
   "cell_type": "code",
   "execution_count": 24,
   "metadata": {},
   "outputs": [
    {
     "name": "stdout",
     "output_type": "stream",
     "text": [
      "tensor([[1., 1., 1.],\n",
      "        [1., 1., 1.]])\n",
      "tensor([[2., 2., 2.],\n",
      "        [2., 2., 2.]])\n",
      "tensor([[3., 3., 3.],\n",
      "        [3., 3., 3.]])\n",
      "torch.Size([2, 3])\n"
     ]
    }
   ],
   "source": [
    "ones = torch.ones(2, 3) # 2x3 tensor filled 1\n",
    "print(ones)\n",
    "\n",
    "twos = torch.ones(2, 3) * 2  # 2x3 tensor filled 2\n",
    "print(twos)\n",
    "\n",
    "threes = ones + twos       # shape이 같아서 더할 수 있다.\n",
    "print(threes)              # tensor의 원소별 더한 값이 결과로 나옵니다. (element wise)\n",
    "print(threes.shape)        # 입력 tensor와 동일한 차원을 가지고 있습니다.\n",
    "\n",
    "r1 = torch.rand(2, 3)\n",
    "r2 = torch.rand(3, 2)\n",
    "# 런타임 오류를 발생시키려면 아래 줄의 주석을 해제합니다.\n",
    "# r3 = r1 + r2 # shape이 다르다."
   ]
  },
  {
   "cell_type": "code",
   "execution_count": 25,
   "metadata": {},
   "outputs": [
    {
     "name": "stdout",
     "output_type": "stream",
     "text": [
      "랜덤 행렬값, r:\n",
      "tensor([[ 0.9956, -0.2232],\n",
      "        [ 0.3858, -0.6593]])\n",
      "\n",
      "r의 절대값:\n",
      "tensor([[0.9956, 0.2232],\n",
      "        [0.3858, 0.6593]])\n",
      "\n",
      "r의 역 사인 함수:\n",
      "tensor([[ 1.4775, -0.2251],\n",
      "        [ 0.3961, -0.7199]])\n",
      "\n",
      "r의 행렬식:\n",
      "tensor(-0.5703)\n",
      "\n",
      "r의 특이값 분해:\n",
      "torch.return_types.svd(\n",
      "U=tensor([[-0.8353, -0.5497],\n",
      "        [-0.5497,  0.8353]]),\n",
      "S=tensor([1.1793, 0.4836]),\n",
      "V=tensor([[-0.8851, -0.4654],\n",
      "        [ 0.4654, -0.8851]]))\n",
      "\n",
      "r의 평균 및 표준편차:\n",
      "(tensor(0.7217), tensor(0.1247))\n",
      "\n",
      "r의 최대값:\n",
      "tensor(0.9956)\n"
     ]
    }
   ],
   "source": [
    "# torch.rand() = [0,1) 사이로 채워짐.\n",
    "r = (torch.rand(2, 2) - 0.5) * 2 # -1과 1 사이의 값을 가집니다.\n",
    "print('랜덤 행렬값, r:')\n",
    "print(r)\n",
    "\n",
    "# 일반적인 수학적 연산은 다음과 같이 지원됩니다:\n",
    "print('\\nr의 절대값:')\n",
    "print(torch.abs(r))\n",
    "\n",
    "# 삼각함수를 사용할 수 있습니다:\n",
    "print('\\nr의 역 사인 함수:')\n",
    "print(torch.asin(r))\n",
    "\n",
    "# 행렬식 및 특이값 분해와 같은 선형 대수 연산을 사용할 수 있습니다.\n",
    "print('\\nr의 행렬식:')\n",
    "print(torch.det(r))\n",
    "print('\\nr의 특이값 분해:')\n",
    "print(torch.svd(r))\n",
    "\n",
    "# 통계 및 집합 연산 등을 사용할 수 있습니다:\n",
    "print('\\nr의 평균 및 표준편차:')\n",
    "print(torch.std_mean(r))\n",
    "print('\\nr의 최대값:')\n",
    "print(torch.max(r))"
   ]
  },
  {
   "cell_type": "code",
   "execution_count": 26,
   "metadata": {},
   "outputs": [],
   "source": [
    "import torch                     # PyTorch 모든 모듈 가져오기\n",
    "import torch.nn as nn            # torch.nn.Module의 경우 PyTorch model의 부모 객체\n",
    "import torch.nn.functional as F  # 활성화 함수 모듈 가져오기"
   ]
  },
  {
   "cell_type": "code",
   "execution_count": 27,
   "metadata": {},
   "outputs": [],
   "source": [
    "class LeNet(nn.Module):\n",
    "\n",
    "    def __init__(self):\n",
    "        super(LeNet, self).__init__()\n",
    "        # 입력 이미지 채널, 6개의 output 채널, 3x3 정방 합성곱 커널을 사용합니다.\n",
    "        '''\n",
    "        torch.nn.Conv2d(in_channels, out_channels, kernel_size, stride=1, padding=0, \n",
    "                        dilation=1, groups=1, bias=True, padding_mode='zeros',\n",
    "                        device=None, dtype=None)\n",
    "        '''\n",
    "        self.conv1 = nn.Conv2d(1, 6, 3)\n",
    "        self.conv2 = nn.Conv2d(6, 16, 3)\n",
    "        # 아핀 변환: y = Wx + b\n",
    "        self.fc1 = nn.Linear(16 * 6 * 6, 120)  # 6*6 이미지 차원, linear을 차원이 1차원 이여야 함. (input, output))\n",
    "        self.fc2 = nn.Linear(120, 84)\n",
    "        self.fc3 = nn.Linear(84, 10)\n",
    "\n",
    "    def forward(self, x): \n",
    "        # 실제 계산\n",
    "        # 최대 풀링은 (2, 2) 윈도우 크기를 사용합니다.\n",
    "        # 활성화 함수 : relu\n",
    "        x = F.max_pool2d(F.relu(self.conv1(x)), (2, 2))\n",
    "        # 크기가 정방 사이즈인 경우, 단일 숫자만 지정할 수 있습니다.\n",
    "        x = F.max_pool2d(F.relu(self.conv2(x)), 2)\n",
    "        x = x.view(-1, self.num_flat_features(x)) # contiguous해야 사용 가능.\n",
    "        x = F.relu(self.fc1(x))\n",
    "        x = F.relu(self.fc2(x))\n",
    "        x = self.fc3(x)\n",
    "        return x\n",
    "\n",
    "    def num_flat_features(self, x):\n",
    "        size = x.size()[1:]  # 크기는 배치 차원을 제외한 모든 차원을 가져옵니다.\n",
    "        num_features = 1\n",
    "        for s in size:\n",
    "            num_features *= s\n",
    "        return num_features"
   ]
  },
  {
   "cell_type": "code",
   "execution_count": 28,
   "metadata": {},
   "outputs": [
    {
     "name": "stdout",
     "output_type": "stream",
     "text": [
      "LeNet(\n",
      "  (conv1): Conv2d(1, 6, kernel_size=(3, 3), stride=(1, 1))\n",
      "  (conv2): Conv2d(6, 16, kernel_size=(3, 3), stride=(1, 1))\n",
      "  (fc1): Linear(in_features=576, out_features=120, bias=True)\n",
      "  (fc2): Linear(in_features=120, out_features=84, bias=True)\n",
      "  (fc3): Linear(in_features=84, out_features=10, bias=True)\n",
      ")\n",
      "tensor([[[[0.4734, 0.8919, 0.8654,  ..., 0.4020, 0.8537, 0.4461],\n",
      "          [0.2797, 0.3463, 0.0821,  ..., 0.2289, 0.3642, 0.6232],\n",
      "          [0.2572, 0.8885, 0.1241,  ..., 0.7137, 0.6651, 0.3160],\n",
      "          ...,\n",
      "          [0.2146, 0.9251, 0.8576,  ..., 0.7958, 0.5860, 0.7980],\n",
      "          [0.4936, 0.9820, 0.5559,  ..., 0.2232, 0.2553, 0.3086],\n",
      "          [0.8238, 0.5991, 0.6750,  ..., 0.7459, 0.1907, 0.9932]]]])\n",
      "\n",
      "이미지 배치 shape:\n",
      "torch.Size([1, 1, 32, 32])\n",
      "\n",
      ":결과 값\n",
      "tensor([[ 0.0639, -0.0646, -0.0593, -0.0054, -0.0212, -0.0529, -0.1144,  0.0339,\n",
      "          0.0838,  0.0405]], grad_fn=<AddmmBackward0>)\n",
      "torch.Size([1, 10])\n"
     ]
    }
   ],
   "source": [
    "net = LeNet()\n",
    "print(net)                         # 인스턴스한 객체를 출력하면 어떤 값을 보여줄까요?\n",
    "\n",
    "input = torch.rand(1, 1, 32, 32)   # 32x32 크기의 1채널의 흑백 이미지를 만듭니다.\n",
    "print(input)\n",
    "print('\\n이미지 배치 shape:')\n",
    "print(input.shape)\n",
    "\n",
    "output = net(input)                # 객체로부터 직접 forward() 함수를 호출하지 않습니다.\n",
    "print('\\n:결과 값')\n",
    "print(output)\n",
    "print(output.shape)"
   ]
  },
  {
   "cell_type": "code",
   "execution_count": 29,
   "metadata": {},
   "outputs": [],
   "source": [
    "import torch\n",
    "import torchvision\n",
    "import torchvision.transforms as transforms\n",
    "\n",
    "transform = transforms.Compose(  # 데이터 핸들링을 여러단계로 묶기. \n",
    "    [transforms.ToTensor(),\n",
    "     transforms.Normalize((0.5, 0.5, 0.5), (0.5, 0.5, 0.5))])\n",
    "\n",
    "# 평균이 0이고 표준 편차가 0.5가 되도록 tensor의 값을 조정합니다. \n",
    "# 대부분의 활성화 함수는 약 x=0에 강한 기울기 값을 가지고 있어 데이터를 중앙으로 집중화하여 학습 속도를 높일 수 있습니다."
   ]
  },
  {
   "cell_type": "code",
   "execution_count": 30,
   "metadata": {},
   "outputs": [
    {
     "name": "stdout",
     "output_type": "stream",
     "text": [
      "Files already downloaded and verified\n"
     ]
    }
   ],
   "source": [
    "trainset = torchvision.datasets.CIFAR10(root='./data', train=True,\n",
    "                                        download=True, transform=transform)"
   ]
  },
  {
   "cell_type": "code",
   "execution_count": 31,
   "metadata": {},
   "outputs": [],
   "source": [
    "trainloader = torch.utils.data.DataLoader(trainset, batch_size=4,\n",
    "                                          shuffle=True, num_workers=2)"
   ]
  },
  {
   "cell_type": "code",
   "execution_count": 32,
   "metadata": {},
   "outputs": [
    {
     "name": "stdout",
     "output_type": "stream",
     "text": [
      " ship truck   cat  bird\n"
     ]
    },
    {
     "data": {
      "image/png": "[encoded data removed]",
      "text/plain": [
       "<Figure size 640x480 with 1 Axes>"
      ]
     },
     "metadata": {},
     "output_type": "display_data"
    }
   ],
   "source": [
    "import matplotlib.pyplot as plt\n",
    "import numpy as np\n",
    "\n",
    "classes = ('plane', 'car', 'bird', 'cat',\n",
    "           'deer', 'dog', 'frog', 'horse', 'ship', 'truck')\n",
    "\n",
    "def imshow(img):\n",
    "    img = img / 2 + 0.5     # 역정규화\n",
    "    npimg = img.numpy()\n",
    "    plt.imshow(np.transpose(npimg, (1, 2, 0)))\n",
    "\n",
    "\n",
    "# 무작위로 학습 이미지 추출하기\n",
    "dataiter = iter(trainloader)\n",
    "images, labels = next(dataiter)\n",
    "\n",
    "# 이미지 보여주기\n",
    "imshow(torchvision.utils.make_grid(images))\n",
    "# labels 출력하기\n",
    "print(' '.join('%5s' % classes[labels[j]] for j in range(4)))"
   ]
  },
  {
   "cell_type": "code",
   "execution_count": 33,
   "metadata": {},
   "outputs": [],
   "source": [
    "#%matplotlib inline\n",
    "\n",
    "import torch\n",
    "import torch.nn as nn\n",
    "import torch.nn.functional as F\n",
    "import torch.optim as optim\n",
    "\n",
    "import torchvision\n",
    "import torchvision.transforms as transforms\n",
    "\n",
    "import matplotlib\n",
    "import matplotlib.pyplot as plt\n",
    "import numpy as np"
   ]
  },
  {
   "cell_type": "code",
   "execution_count": 34,
   "metadata": {},
   "outputs": [
    {
     "name": "stdout",
     "output_type": "stream",
     "text": [
      "Files already downloaded and verified\n",
      "Files already downloaded and verified\n"
     ]
    }
   ],
   "source": [
    "transform = transforms.Compose(\n",
    "    [transforms.ToTensor(),\n",
    "     transforms.Normalize((0.5, 0.5, 0.5), (0.5, 0.5, 0.5))])\n",
    "\n",
    "trainset = torchvision.datasets.CIFAR10(root='./data', train=True,\n",
    "                                        download=True, transform=transform)\n",
    "trainloader = torch.utils.data.DataLoader(trainset, batch_size=4,\n",
    "                                          shuffle=True, num_workers=2)\n",
    "\n",
    "testset = torchvision.datasets.CIFAR10(root='./data', train=False,\n",
    "                                       download=True, transform=transform)\n",
    "testloader = torch.utils.data.DataLoader(testset, batch_size=4,\n",
    "                                         shuffle=False, num_workers=2)\n",
    "\n",
    "classes = ('plane', 'car', 'bird', 'cat',\n",
    "           'deer', 'dog', 'frog', 'horse', 'ship', 'truck')"
   ]
  },
  {
   "cell_type": "code",
   "execution_count": 35,
   "metadata": {},
   "outputs": [
    {
     "name": "stdout",
     "output_type": "stream",
     "text": [
      " bird plane horse   car\n"
     ]
    },
    {
     "data": {
      "image/png": "[encoded data removed]",
      "text/plain": [
       "<Figure size 640x480 with 1 Axes>"
      ]
     },
     "metadata": {},
     "output_type": "display_data"
    }
   ],
   "source": [
    "import matplotlib.pyplot as plt\n",
    "import numpy as np\n",
    "\n",
    "# 아래 함수는 이미지를 시각화하여 보여주는 함수입니다.\n",
    "\n",
    "\n",
    "def imshow(img):\n",
    "    img = img / 2 + 0.5     # 역정규화\n",
    "    npimg = img.numpy()\n",
    "    plt.imshow(np.transpose(npimg, (1, 2, 0)))\n",
    "\n",
    "\n",
    "# 무작위로 학습 이미지를 가져오기\n",
    "dataiter = iter(trainloader)\n",
    "images, labels = next(dataiter)\n",
    "\n",
    "# 이미지 시각화하기\n",
    "imshow(torchvision.utils.make_grid(images))\n",
    "# 정답 label 출력하기\n",
    "print(' '.join('%5s' % classes[labels[j]] for j in range(4)))"
   ]
  },
  {
   "cell_type": "code",
   "execution_count": 36,
   "metadata": {},
   "outputs": [],
   "source": [
    "class Net(nn.Module):\n",
    "    def __init__(self):\n",
    "        super(Net, self).__init__()\n",
    "        self.conv1 = nn.Conv2d(3, 6, 5)\n",
    "        self.pool = nn.MaxPool2d(2, 2)\n",
    "        self.conv2 = nn.Conv2d(6, 16, 5)\n",
    "        self.fc1 = nn.Linear(16 * 5 * 5, 120)\n",
    "        self.fc2 = nn.Linear(120, 84)\n",
    "        self.fc3 = nn.Linear(84, 10)\n",
    "\n",
    "    def forward(self, x):\n",
    "        x = self.pool(F.relu(self.conv1(x)))\n",
    "        x = self.pool(F.relu(self.conv2(x)))\n",
    "        x = x.view(-1, 16 * 5 * 5)\n",
    "        x = F.relu(self.fc1(x))\n",
    "        x = F.relu(self.fc2(x))\n",
    "        x = self.fc3(x)\n",
    "        return x\n",
    "\n",
    "\n",
    "net = Net()"
   ]
  },
  {
   "cell_type": "code",
   "execution_count": 37,
   "metadata": {},
   "outputs": [],
   "source": [
    "#LOSS\n",
    "criterion = nn.CrossEntropyLoss()\n",
    "\n",
    "#옵티마이저\n",
    "optimizer = optim.SGD(net.parameters(), lr=0.001, momentum=0.9)\n"
   ]
  },
  {
   "cell_type": "code",
   "execution_count": 38,
   "metadata": {},
   "outputs": [
    {
     "name": "stdout",
     "output_type": "stream",
     "text": [
      "[1,  2000] loss: 2.174\n",
      "[1,  4000] loss: 1.812\n",
      "[1,  6000] loss: 1.673\n",
      "[1,  8000] loss: 1.598\n",
      "[1, 10000] loss: 1.541\n",
      "[1, 12000] loss: 1.475\n",
      "[2,  2000] loss: 1.397\n",
      "[2,  4000] loss: 1.368\n",
      "[2,  6000] loss: 1.337\n",
      "[2,  8000] loss: 1.323\n",
      "[2, 10000] loss: 1.301\n",
      "[2, 12000] loss: 1.275\n",
      "Finished Training\n"
     ]
    }
   ],
   "source": [
    "for epoch in range(2):  # 데이터셋을 여러 번 반복 학습합니다.\n",
    "\n",
    "    running_loss = 0.0\n",
    "    for i, data in enumerate(trainloader, 0):\n",
    "        # 데이터를 통해 이미지와 정답값을 받습니다.\n",
    "        inputs, labels = data\n",
    "\n",
    "        # 초기 기울기 파라미터를 0으로 설정합니다\n",
    "        optimizer.zero_grad()\n",
    "\n",
    "        # forward + backward + optimize\n",
    "        outputs = net(inputs)\n",
    "        loss = criterion(outputs, labels)\n",
    "        loss.backward()\n",
    "        optimizer.step()# 기울기 반영\n",
    "\n",
    "        # epoch 및 loss 값을 출력합니다\n",
    "        running_loss += loss.item()\n",
    "        if i % 2000 == 1999:    # 2000 mini-batches 마다 값을 출력합니다\n",
    "            print('[%d, %5d] loss: %.3f' %\n",
    "                  (epoch + 1, i + 1, running_loss / 2000))\n",
    "            running_loss = 0.0\n",
    "\n",
    "print('Finished Training')"
   ]
  },
  {
   "cell_type": "code",
   "execution_count": 39,
   "metadata": {},
   "outputs": [
    {
     "name": "stdout",
     "output_type": "stream",
     "text": [
      "10000개 테스트 이미지에서 모델 정확도: 55 %\n"
     ]
    }
   ],
   "source": [
    "correct = 0\n",
    "total = 0\n",
    "with torch.no_grad():\n",
    "    for data in testloader:\n",
    "        images, labels = data\n",
    "        outputs = net(images)\n",
    "        _, predicted = torch.max(outputs.data, 1)\n",
    "        total += labels.size(0)\n",
    "        correct += (predicted == labels).sum().item()\n",
    "\n",
    "print('10000개 테스트 이미지에서 모델 정확도: %d %%' % (\n",
    "    100 * correct / total))"
   ]
  },
  {
   "cell_type": "code",
   "execution_count": null,
   "metadata": {},
   "outputs": [],
   "source": []
  },
  {
   "cell_type": "code",
   "execution_count": null,
   "metadata": {},
   "outputs": [],
   "source": []
  }
 ],
 "metadata": {
  "kernelspec": {
   "display_name": "Python 3",
   "language": "python",
   "name": "python3"
  },
  "language_info": {
   "codemirror_mode": {
    "name": "ipython",
    "version": 3
   },
   "file_extension": ".py",
   "mimetype": "text/x-python",
   "name": "python",
   "nbconvert_exporter": "python",
   "pygments_lexer": "ipython3",
   "version": "3.10.9"
  },
  "orig_nbformat": 4,
  "vscode": {
   "interpreter": {
    "hash": "11c4cb31333e8aa59cbff2148c1763edacdfeefdbe5c2dd2a934b744b24310c8"
   }
  }
 },
 "nbformat": 4,
 "nbformat_minor": 2
}
